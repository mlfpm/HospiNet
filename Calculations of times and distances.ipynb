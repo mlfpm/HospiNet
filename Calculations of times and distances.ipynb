{
 "cells": [
  {
   "cell_type": "code",
   "execution_count": 88,
   "metadata": {},
   "outputs": [],
   "source": [
    "import pickle\n",
    "import requests\n",
    "import numpy as np\n",
    "import time\n",
    "import os\n",
    "from tqdm.notebook import tqdm"
   ]
  },
  {
   "cell_type": "code",
   "execution_count": 8,
   "metadata": {},
   "outputs": [],
   "source": [
    "with open(os.path.join(\"processed_data\", \"departments.pkl\"), \"rb\") as f:\n",
    "    departments = pickle.load(f)\n",
    "\n",
    "dep_codes = sorted(departments.keys())\n",
    "cities = [departments[c][\"capital\"] for c in dep_codes]\n",
    "cities_coords = [departments[c][\"capital_coords\"] for c in dep_codes]\n",
    "coords_list = []\n",
    "for city in cities_coords:\n",
    "    coords_list.append([city[\"lat\"], city[\"lng\"]])"
   ]
  },
  {
   "cell_type": "code",
   "execution_count": 36,
   "metadata": {},
   "outputs": [
    {
     "data": {
      "text/plain": [
       "101"
      ]
     },
     "execution_count": 36,
     "metadata": {},
     "output_type": "execute_result"
    }
   ],
   "source": [
    "len(cities_coords)"
   ]
  },
  {
   "cell_type": "code",
   "execution_count": 47,
   "metadata": {},
   "outputs": [],
   "source": [
    "#url = \"http://www.mapquestapi.com/directions/v2/routematrix\"\n",
    "url = \"http://www.mapquestapi.com/directions/v2/route\"\n",
    "api_key = \"mGe2Ac9v3ynZtrlCkWbN34DKhApIAVc1\"\n",
    "post_url = url + \"?key=\" + api_key"
   ]
  },
  {
   "cell_type": "code",
   "execution_count": 51,
   "metadata": {},
   "outputs": [],
   "source": [
    "body = {\n",
    "  \"locations\": [{\"latLng\": cc} for cc in cities_coords[:2]],\n",
    "  \"options\": {\n",
    "        \"routeType\": \"fastest\",\n",
    "        \"unit\": \"m\",\n",
    "  }\n",
    "}"
   ]
  },
  {
   "cell_type": "code",
   "execution_count": 79,
   "metadata": {},
   "outputs": [
    {
     "data": {
      "application/vnd.jupyter.widget-view+json": {
       "model_id": "5d833032eaf84ac1b082872de0cf6d2b",
       "version_major": 2,
       "version_minor": 0
      },
      "text/plain": [
       "HBox(children=(IntProgress(value=0, max=101), HTML(value='')))"
      ]
     },
     "metadata": {},
     "output_type": "display_data"
    },
    {
     "name": "stdout",
     "output_type": "stream",
     "text": [
      "\n"
     ]
    }
   ],
   "source": [
    "distance_matrix = -1 * np.ones((len(cities_coords), len(cities_coords)))\n",
    "time_matrix = -1 * np.ones((len(cities_coords), len(cities_coords)))\n",
    "\n",
    "for i in tqdm(range(len(cities_coords))):\n",
    "    for j in range(len(cities_coords)):\n",
    "        time.sleep(0.01)\n",
    "        if i==j:\n",
    "            distance_matrix[i, j] = 0\n",
    "            time_matrix[i, j] = 0\n",
    "            continue\n",
    "        body[\"locations\"] = [{\"latLng\": cities_coords[i]}, {\"latLng\": cities_coords[j]}]\n",
    "        response = requests.post(post_url, json=body)\n",
    "        if response.status_code != 200:\n",
    "            continue\n",
    "        rj = response.json()\n",
    "        if \"route\" not in rj.keys():\n",
    "            continue\n",
    "        if \"distance\" not in rj[\"route\"].keys() or \"time\" not in rj[\"route\"].keys():\n",
    "            continue\n",
    "        distance_matrix[i, j] = rj[\"route\"][\"distance\"]\n",
    "        time_matrix[i, j] = rj[\"route\"][\"time\"]\n",
    "        \n",
    "#response = requests.post(post_url, json=body)"
   ]
  },
  {
   "cell_type": "code",
   "execution_count": 80,
   "metadata": {},
   "outputs": [],
   "source": [
    "np.save(\"distance_matrix.npy\", distance_matrix)\n",
    "np.save(\"time_matrix.npy\", time_matrix)"
   ]
  },
  {
   "cell_type": "code",
   "execution_count": 84,
   "metadata": {},
   "outputs": [
    {
     "name": "stdout",
     "output_type": "stream",
     "text": [
      "0\n"
     ]
    }
   ],
   "source": [
    "counter = 0\n",
    "for i in range(len(distance_matrix)):\n",
    "    for j in range(len(distance_matrix)):\n",
    "        if i == j:\n",
    "            continue\n",
    "        if distance_matrix[i,j] == 0:\n",
    "            distance_matrix[i,j] = -2\n",
    "        if time_matrix[i,j] == 0:\n",
    "            time_matrix[i,j] = -2\n",
    "            \n",
    "print(counter)"
   ]
  },
  {
   "cell_type": "code",
   "execution_count": 85,
   "metadata": {},
   "outputs": [
    {
     "data": {
      "text/plain": [
       "array([[  0.   , 316.097, 109.338, ...,  -1.   ,  -2.   ,  -2.   ],\n",
       "       [317.307,   0.   , 276.597, ...,  -1.   ,  -2.   ,  -2.   ],\n",
       "       [108.824, 273.914,   0.   , ...,  -1.   ,  -2.   ,  -2.   ],\n",
       "       ...,\n",
       "       [ -1.   ,  -1.   ,  -1.   , ...,   0.   ,  -1.   ,  -1.   ],\n",
       "       [ -1.   ,  -1.   ,  -1.   , ...,  -1.   ,   0.   ,  -1.   ],\n",
       "       [ -1.   ,  -1.   ,  -1.   , ...,  -1.   ,  -1.   ,   0.   ]])"
      ]
     },
     "execution_count": 85,
     "metadata": {},
     "output_type": "execute_result"
    }
   ],
   "source": [
    "distance_matrix"
   ]
  },
  {
   "cell_type": "code",
   "execution_count": 86,
   "metadata": {},
   "outputs": [],
   "source": [
    "description = \"\"\"\n",
    "I used the Mapquest Route API https://developer.mapquest.com/documentation/directions-api/route/post/ to complete the matrices. \n",
    "distance_matrix[i, j] contains the distance in km for going from cities[i] to cities[j], while time_matrix[i, j] contains \n",
    "the time in seconds for that route. -1 was used to fill the missing values, but I think that the API returned 0 mistakenly in a few cases,\n",
    "so 0s outside of the diagonal have been set to -2\n",
    "\"\"\"\n",
    "\n",
    "\n",
    "distances_times = {\n",
    "    \"departments\": dep_codes,\n",
    "    \"cities\": cities,\n",
    "    \"distance_matrix\": distance_matrix,\n",
    "    \"time_matrix\": time_matrix,\n",
    "    \"description\": description\n",
    "}"
   ]
  },
  {
   "cell_type": "code",
   "execution_count": 87,
   "metadata": {},
   "outputs": [],
   "source": [
    "with open(os.path.join(\"processed_data\", \"distances_times.pkl\"), \"wb\") as f:\n",
    "    pickle.dump(distances_times, f)"
   ]
  },
  {
   "cell_type": "code",
   "execution_count": null,
   "metadata": {},
   "outputs": [],
   "source": []
  }
 ],
 "metadata": {
  "kernelspec": {
   "display_name": "Python 3",
   "language": "python",
   "name": "python3"
  },
  "language_info": {
   "codemirror_mode": {
    "name": "ipython",
    "version": 3
   },
   "file_extension": ".py",
   "mimetype": "text/x-python",
   "name": "python",
   "nbconvert_exporter": "python",
   "pygments_lexer": "ipython3",
   "version": "3.7.4"
  }
 },
 "nbformat": 4,
 "nbformat_minor": 2
}
