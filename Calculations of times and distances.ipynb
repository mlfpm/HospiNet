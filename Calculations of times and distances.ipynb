{
 "cells": [
  {
   "cell_type": "code",
   "execution_count": null,
   "metadata": {},
   "outputs": [],
   "source": [
    "import pickle\n",
    "import requests\n",
    "import numpy as np\n",
    "import time\n",
    "import googlemaps\n",
    "import json\n",
    "import os\n",
    "from tqdm.notebook import tqdm"
   ]
  },
  {
   "cell_type": "code",
   "execution_count": null,
   "metadata": {},
   "outputs": [],
   "source": [
    "with open(os.path.join(\"processed_data\", \"departments.pkl\"), \"rb\") as f:\n",
    "    departments = pickle.load(f)\n",
    "\n",
    "with open(os.path.join(\"processed_data\", \"connectivity.pkl\"), \"rb\") as f:\n",
    "    connectivity = pickle.load(f)\n",
    "    \n",
    "codes_to_exclude = [\"2A\", \"2B\"] #Corsica\n",
    "dep_codes = sorted(departments.keys())\n",
    "dep_codes = [d for d in dep_codes if d not in codes_to_exclude and len(d)<3]\n",
    "\n",
    "cities = [departments[c][\"capital\"] for c in dep_codes]\n",
    "cities_coords = [departments[c][\"capital_coords\"] for c in dep_codes]\n",
    "coords_list = []\n",
    "for city in cities_coords:\n",
    "    coords_list.append([city[\"lat\"], city[\"lng\"]])"
   ]
  },
  {
   "cell_type": "code",
   "execution_count": null,
   "metadata": {},
   "outputs": [],
   "source": [
    "google_key = \"ADD_API_KEY\"\n",
    "gmaps = googlemaps.Client(key=google_key)"
   ]
  },
  {
   "cell_type": "code",
   "execution_count": null,
   "metadata": {
    "scrolled": true
   },
   "outputs": [],
   "source": [
    "td_data = {}\n",
    "for i, code in enumerate(dep_codes):\n",
    "    time.sleep(0.03)\n",
    "    neighbor_idxs = [dep_codes.index(c) for c in connectivity[code]]\n",
    "    neighbors = [coords_list[k] for k in neighbor_idxs]\n",
    "    result = gmaps.distance_matrix([coords_list[i]], neighbors, mode='driving')\n",
    "    connections = []\n",
    "    for k, element in enumerate(result['rows'][0][\"elements\"]):\n",
    "        neighbor = {\"code\": dep_codes[neighbor_idxs[k]],\n",
    "                   \"time\": element[\"duration\"][\"value\"],\n",
    "                    \"distance\": element[\"distance\"][\"value\"]\n",
    "                   }\n",
    "        connections.append(neighbor)\n",
    "    td_data[code] = connections\n"
   ]
  },
  {
   "cell_type": "code",
   "execution_count": null,
   "metadata": {},
   "outputs": [],
   "source": [
    "td_data.keys()"
   ]
  },
  {
   "cell_type": "code",
   "execution_count": null,
   "metadata": {},
   "outputs": [],
   "source": [
    "with open(\"distances_times.pkl\", \"wb\") as f:\n",
    "    pickle.dump(td_data, f)\n",
    "with open(\"distances_times.json\", \"w\") as f:\n",
    "    json.dump(td_data, f, sort_keys=True, indent=4)"
   ]
  },
  {
   "cell_type": "code",
   "execution_count": null,
   "metadata": {},
   "outputs": [],
   "source": []
  },
  {
   "cell_type": "code",
   "execution_count": null,
   "metadata": {},
   "outputs": [],
   "source": []
  }
 ],
 "metadata": {
  "kernelspec": {
   "display_name": "Python 3.7.4 64-bit ('base': conda)",
   "language": "python",
   "name": "python37464bitbasecondaf23b2e2e1ab64677855070a252a1637c"
  },
  "language_info": {
   "codemirror_mode": {
    "name": "ipython",
    "version": 3
   },
   "file_extension": ".py",
   "mimetype": "text/x-python",
   "name": "python",
   "nbconvert_exporter": "python",
   "pygments_lexer": "ipython3",
   "version": "3.7.4"
  }
 },
 "nbformat": 4,
 "nbformat_minor": 2
}
