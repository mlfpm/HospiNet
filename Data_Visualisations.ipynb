{
 "cells": [
  {
   "cell_type": "markdown",
   "metadata": {},
   "source": [
    "# Distribution of Hospital Beds per Departments\n",
    "Scripts for creating the visualisation of the hospital beds in France grouped by type and department.\n",
    "@author: GiuliaMuzio"
   ]
  },
  {
   "cell_type": "code",
   "execution_count": 1,
   "metadata": {
    "ExecuteTime": {
     "end_time": "2020-04-26T14:38:12.134992Z",
     "start_time": "2020-04-26T14:38:11.197556Z"
    }
   },
   "outputs": [],
   "source": [
    "import numpy as np\n",
    "import matplotlib.pyplot as plt\n",
    "import seaborn as sns\n",
    "import pickle\n",
    "from IPython import embed\n",
    "import pandas as pd"
   ]
  },
  {
   "cell_type": "code",
   "execution_count": 2,
   "metadata": {
    "ExecuteTime": {
     "end_time": "2020-04-26T14:38:12.139893Z",
     "start_time": "2020-04-26T14:38:12.136709Z"
    }
   },
   "outputs": [],
   "source": [
    "def save_file(filename, data):\n",
    "    with open(filename, 'wb') as f:\n",
    "        pickle.dump(data, f, pickle.HIGHEST_PROTOCOL)\n",
    "\n",
    "\n",
    "def load_file(filename):\n",
    "    with open(filename, 'rb') as f:\n",
    "        return pickle.load(f)"
   ]
  },
  {
   "cell_type": "code",
   "execution_count": 3,
   "metadata": {
    "ExecuteTime": {
     "end_time": "2020-04-26T14:38:12.153402Z",
     "start_time": "2020-04-26T14:38:12.142110Z"
    }
   },
   "outputs": [],
   "source": [
    "def obtain_data(data):\n",
    "    KEYS = list(data.keys())\n",
    "    # removing departments oversea\n",
    "    keys = np.array(KEYS[:96]).astype(object)\n",
    "    idx1 = np.where(keys == \"2A\")[0]\n",
    "    idx2 = np.where(keys == \"2B\")[0]\n",
    "    keys = np.delete(np.array(keys), [idx1, idx2])\n",
    "    name, capital, icu_beds, acute_beds = [], [], [], []\n",
    "    for key in keys:\n",
    "        name.append(data[key][\"name\"])\n",
    "        capital.append(data[key][\"capital\"])\n",
    "        icu_beds.append(data[key][\"beds\"][\"icu\"])\n",
    "        acute_beds.append(data[key][\"beds\"][\"acute\"])\n",
    "\n",
    "    df = pd.DataFrame(\n",
    "        data=np.transpose([name, capital, icu_beds, acute_beds]),\n",
    "        columns=[\"department\", \"capital\", \"icu beds\", \"acute beds\"]\n",
    "    )\n",
    "    df['icu beds'] = df['icu beds'].astype(int)\n",
    "    df['acute beds'] = df['acute beds'].astype(int)\n",
    "\n",
    "    # dataframe for visualising both\n",
    "    beds = np.concatenate((icu_beds, acute_beds))\n",
    "    label = np.concatenate(\n",
    "        (np.full(len(icu_beds), \"ICU\"), np.full(len(icu_beds), \"acute\"))\n",
    "    )\n",
    "    dep = np.concatenate((name, name))\n",
    "    df_ = pd.DataFrame(\n",
    "        data=np.transpose([beds, label, dep]), columns=[\"Beds\", \"Bed kind\", \"dep\"]\n",
    "    )\n",
    "    df_['Beds'] = df_['Beds'].astype(int)\n",
    "    \n",
    "    # Region level plots\n",
    "    region = region_f()\n",
    "\n",
    "    # check if all the name are spelled in the same way + manual correction\n",
    "    dep_name = np.sort(list(region.keys()))\n",
    "    non_equal = np.where(np.sort(name) != dep_name)[0]\n",
    "    for non in non_equal:\n",
    "        print(np.sort(name)[non])\n",
    "        print(dep_name[non])\n",
    "        print(\"\")\n",
    "\n",
    "    reg = []\n",
    "    for elem in name:\n",
    "        reg.append(region[elem])\n",
    "\n",
    "    df_[\"region\"] = np.concatenate((reg, reg))\n",
    "    reg_unique = np.unique(reg)\n",
    "    return df, df_, name, capital, icu_beds, acute_beds, reg_unique"
   ]
  },
  {
   "cell_type": "code",
   "execution_count": 4,
   "metadata": {
    "ExecuteTime": {
     "end_time": "2020-04-26T14:38:12.166096Z",
     "start_time": "2020-04-26T14:38:12.156047Z"
    },
    "code_folding": [
     1
    ]
   },
   "outputs": [],
   "source": [
    "def region_f():\n",
    "    region_dict = {\n",
    "        \"Bas-Rhin\": \"Alsace\",\n",
    "        \"Haut-Rhin\": \"Alsace\",\n",
    "        \"Dordogne\": \"Aquitaine\",\n",
    "        \"Gironde\": \"Aquitaine\",\n",
    "        \"Landes\": \"Aquitaine\",\n",
    "        \"Lot-et-Garonne\": \"Aquitaine\",\n",
    "        \"Pyrénées Atlantiques\": \"Aquitaine\",\n",
    "        \"Allier\": \"Auvergne\",\n",
    "        \"Cantal\": \"Auvergne\",\n",
    "        \"Haute Loire\": \"Auvergne\",\n",
    "        \"Puy-de-Dôme\": \"Auvergne\",\n",
    "        \"Calvados\": \"Basse-Normandie\",\n",
    "        \"Manche\": \"Basse-Normandie\",\n",
    "        \"Orne\": \"Basse-Normandie\",\n",
    "        \"Côte-d'Or\": \"Bourgogne\",\n",
    "        \"Nièvre\": \"Bourgogne\",\n",
    "        \"Saône-et-Loire\": \"Bourgogne\",\n",
    "        \"Yonne\": \"Bourgogne\",\n",
    "        \"Côtes d'Armor\": \"Bretagne\",\n",
    "        \"Finistère\": \"Bretagne\",\n",
    "        \"Ille-et-Vilaine\": \"Bretagne\",\n",
    "        \"Morbihan\": \"Bretagne\",\n",
    "        \"Cher\": \"Centre\",\n",
    "        \"Eure-et-Loir\": \"Centre\",\n",
    "        \"Indre\": \"Centre\",\n",
    "        \"Indre-et-Loire\": \"Centre\",\n",
    "        \"Loir-et-Cher\": \"Centre\",\n",
    "        \"Loiret\": \"Centre\",\n",
    "        \"Ardennes\": \"Champagne-Ardenne\",\n",
    "        \"Aube\": \"Champagne-Ardenne\",\n",
    "        \"Marne\": \"Champagne-Ardenne\",\n",
    "        \"Haute Marne\": \"Champagne-Ardenne\",\n",
    "        \"Doubs\": \"Franche-Comté\",\n",
    "        \"Jura\": \"Franche-Comté\",\n",
    "        \"Haute Saône\": \"Franche-Comté\",\n",
    "        \"Territoire de Belfort\": \"Franche-Comté\",\n",
    "        \"Eure\": \"Haute-Normandie\",\n",
    "        \"Seine Maritime\": \"Haute-Normandie\",\n",
    "        \"Paris\": \"Ile-de-France\",\n",
    "        \"Seine-et-Marne\": \"Ile-de-France\",\n",
    "        \"Yvelines\": \"Ile-de-France\",\n",
    "        \"Essonne\": \"Ile-de-France\",\n",
    "        \"Hauts-de-Seine\": \"Ile-de-France\",\n",
    "        \"Seine-St-Denis\": \"Ile-de-France\",\n",
    "        \"Val-de-Marne\": \"Ile-de-France\",\n",
    "        \"Val-D'Oise\": \"Ile-de-France\",\n",
    "        \"Aude\": \"Languedoc-Roussillon\",\n",
    "        \"Gard\": \"Languedoc-Roussillon\",\n",
    "        \"Hérault\": \"Languedoc-Roussillon\",\n",
    "        \"Lozère\": \"Languedoc-Roussillon\",\n",
    "        \"Pyrénées Orientales\": \"Languedoc-Roussillon\",\n",
    "        \"Corrèze\": \"Limousin\",\n",
    "        \"Creuse\": \"Limousin\",\n",
    "        \"Haute Vienne\": \"Limousin\",\n",
    "        \"Meurthe-et-Moselle\": \"Lorraine\",\n",
    "        \"Meuse\": \"Lorraine\",\n",
    "        \"Moselle\": \"Lorraine\",\n",
    "        \"Vosges\": \"Lorraine\",\n",
    "        \"Ariège\": \"Midi-Pyrénées\",\n",
    "        \"Aveyron\": \"Midi-Pyrénées\",\n",
    "        \"Haute Garonne\": \"Midi-Pyrénées\",\n",
    "        \"Gers\": \"Midi-Pyrénées\",\n",
    "        \"Lot\": \"Midi-Pyrénées\",\n",
    "        \"Hautes Pyrénées\": \"Midi-Pyrénées\",\n",
    "        \"Tarn\": \"Midi-Pyrénées\",\n",
    "        \"Tarn-et-Garonne\": \"Midi-Pyrénées\",\n",
    "        \"Nord\": \"Nord-Pas-de-Calais\",\n",
    "        \"Pas-de-Calais\": \"Nord-Pas-de-Calais\",\n",
    "        \"Loire Atlantique\": \"Pays of Loire\",\n",
    "        \"Maine-et-Loire\": \"Pays of Loire\",\n",
    "        \"Mayenne\": \"Pays of Loire\",\n",
    "        \"Sarthe\": \"Pays of Loire\",\n",
    "        \"Vendée\": \"Pays of Loire\",\n",
    "        \"Aisne\": \"Picardie\",\n",
    "        \"Oise\": \"Picardie\",\n",
    "        \"Somme\": \"Picardie\",\n",
    "        \"Charente\": \"Poitou-Charentes\",\n",
    "        \"Charente-Maritime\": \"Poitou-Charentes\",\n",
    "        \"Deux-Sèvres\": \"Poitou-Charentes\",\n",
    "        \"Vienne\": \"Poitou-Charentes\",\n",
    "        \"Alpes-de-Haute-Provence\": \"Provence-Alpes-Côte-d'Azur\",\n",
    "        \"Hautes-Alpes\": \"Provence-Alpes-Côte-d'Azur\",\n",
    "        \"Alpes Maritimes\": \"Provence-Alpes-Côte-d'Azur\",\n",
    "        \"Bouches-du-Rhône\": \"Provence-Alpes-Côte-d'Azur\",\n",
    "        \"Var\": \"Provence-Alpes-Côte-d'Azur\",\n",
    "        \"Vaucluse\": \"Provence-Alpes-Côte-d'Azur\",\n",
    "        \"Ain\": \"Rhône-Alpes\",\n",
    "        \"Ardèche\": \"Rhône-Alpes\",\n",
    "        \"Drôme\": \"Rhône-Alpes\",\n",
    "        \"Isère\": \"Rhône-Alpes\",\n",
    "        \"Loire\": \"Rhône-Alpes\",\n",
    "        \"Rhône\": \"Rhône-Alpes\",\n",
    "        \"Savoie\": \"Rhône-Alpes\",\n",
    "        \"Haute Savoie\": \"Rhône-Alpes\",\n",
    "    }\n",
    "\n",
    "    return region_dict"
   ]
  },
  {
   "cell_type": "code",
   "execution_count": 5,
   "metadata": {
    "ExecuteTime": {
     "end_time": "2020-04-26T14:38:17.773530Z",
     "start_time": "2020-04-26T14:38:12.167635Z"
    }
   },
   "outputs": [],
   "source": [
    "data = load_file('./data/processed_data/departments.pkl')\n",
    "df, df_, name, capital, icu_beds, acute_beds, reg_unique = obtain_data(data)\n",
    "\n",
    "# ICU beds\n",
    "fig = plt.figure(figsize=(12,10))\n",
    "ax = sns.barplot(x = 'department', y = 'icu beds', data = df)\n",
    "plt.xticks(rotation=90, fontsize = 8)\n",
    "plt.xlabel('France departments')\n",
    "plt.ylabel('ICU beds number')\n",
    "plt.title('ICU beds per department - France')\n",
    "plt.tight_layout()\n",
    "plt.savefig('./visualisations/beds/icu_beds.pdf')\n",
    "plt.close(fig)\n",
    "\n",
    "# acute beds\n",
    "fig = plt.figure(figsize=(12,10))\n",
    "ax = sns.barplot(x = 'department', y = 'acute beds', data = df)\n",
    "plt.xticks(rotation=90, fontsize = 8)\n",
    "plt.xlabel('France departments')\n",
    "plt.ylabel('Acute beds number')\n",
    "plt.title('Acute beds per department - France')\n",
    "plt.tight_layout()\n",
    "plt.savefig('./visualisations/beds/acute_beds.pdf')\n",
    "plt.close(fig)\n",
    "\n",
    "# both acute and ICU beds\n",
    "fig = plt.figure(figsize=(12,10))\n",
    "ax = sns.barplot(x = 'dep', y = 'Beds', hue = 'Bed kind', data = df_)\n",
    "plt.xticks(rotation=90, fontsize = 8)\n",
    "plt.xlabel('France departments')\n",
    "plt.ylabel('Beds number')\n",
    "plt.title('Beds per department - France')\n",
    "plt.tight_layout()\n",
    "plt.savefig('./visualisations/beds/beds.pdf')\n",
    "plt.close(fig)\n",
    "\n",
    "for r in reg_unique:\n",
    "    fig = plt.figure(figsize=(12,10))\n",
    "    ax = sns.barplot(x = 'dep', y = 'Beds', hue = 'Bed kind', data = df_[df_['region']==r])\n",
    "    plt.xticks(rotation=90, fontsize = 8)\n",
    "    plt.xlabel(r + ' departments')\n",
    "    plt.ylabel('Beds number')\n",
    "    plt.title('Beds per department - ' + r)\n",
    "    plt.tight_layout()\n",
    "    plt.savefig('./visualisations/beds/beds_' + r +'.pdf')\n",
    "    plt.close(fig)"
   ]
  },
  {
   "cell_type": "markdown",
   "metadata": {},
   "source": [
    "# Daily Patient-flow animations\n",
    "@author: percyfan"
   ]
  },
  {
   "cell_type": "code",
   "execution_count": 6,
   "metadata": {
    "ExecuteTime": {
     "end_time": "2020-04-26T14:38:28.230446Z",
     "start_time": "2020-04-26T14:38:28.213461Z"
    }
   },
   "outputs": [],
   "source": [
    "df = pd.read_csv('./data/France_Hospital_data/donnees-hospitalieres-nouveaux-covid19-2020-04-23-19h00.csv', header=0,sep=';')\n",
    "df = df.groupby(['jour',  'dep']).sum()\n",
    "time_index = list(np.unique(df.index.get_level_values(0)))"
   ]
  },
  {
   "cell_type": "code",
   "execution_count": 7,
   "metadata": {
    "ExecuteTime": {
     "end_time": "2020-04-26T14:38:35.709678Z",
     "start_time": "2020-04-26T14:38:35.690664Z"
    }
   },
   "outputs": [],
   "source": [
    "with open('./data/processed_data/departments.pkl', 'rb') as handle:\n",
    "    France_atts = pickle.load(handle)\n",
    "loci = pd.DataFrame.from_dict(France_atts)\n",
    "loci.columns = np.unique(df.index.get_level_values(1))"
   ]
  },
  {
   "cell_type": "code",
   "execution_count": 8,
   "metadata": {
    "ExecuteTime": {
     "end_time": "2020-04-26T14:48:48.217651Z",
     "start_time": "2020-04-26T14:48:48.199754Z"
    }
   },
   "outputs": [],
   "source": [
    "import branca.colormap\n",
    "from collections import defaultdict\n",
    "import folium\n",
    "import folium.plugins as plugins\n",
    "\n",
    "for cat in df.columns:\n",
    "    data_hosp = []\n",
    "    for _, df_temp in df.groupby(level=0):\n",
    "        data_temp = []\n",
    "        for weight, (key, value) in zip(df_temp[cat], loci.loc['capital_coords'].items()):\n",
    "            data_temp.append([value['lat'], value['lng'], weight/(df[cat].max())])\n",
    "        data_hosp.append(data_temp)\n",
    "    \n",
    "    m = folium.Map([48., 5.], tiles='stamentoner', zoom_start=6)\n",
    "\n",
    "    hm = plugins.HeatMapWithTime(\n",
    "        data_hosp,\n",
    "        radius=45,\n",
    "        index=time_index,\n",
    "        auto_play=True,\n",
    "        max_opacity=0.3\n",
    "    )\n",
    "    hm.add_to(m)\n",
    "    \n",
    "    file_path = r\"./visualisations/daily_flow/{}.html\".format(str(cat))\n",
    "    hm.save(file_path)"
   ]
  }
 ],
 "metadata": {
  "kernelspec": {
   "display_name": "Python 3",
   "language": "python",
   "name": "python3"
  },
  "language_info": {
   "codemirror_mode": {
    "name": "ipython",
    "version": 3
   },
   "file_extension": ".py",
   "mimetype": "text/x-python",
   "name": "python",
   "nbconvert_exporter": "python",
   "pygments_lexer": "ipython3",
   "version": "3.7.3"
  },
  "latex_envs": {
   "LaTeX_envs_menu_present": true,
   "autoclose": false,
   "autocomplete": true,
   "bibliofile": "biblio.bib",
   "cite_by": "apalike",
   "current_citInitial": 1,
   "eqLabelWithNumbers": true,
   "eqNumInitial": 1,
   "hotkeys": {
    "equation": "Ctrl-E",
    "itemize": "Ctrl-I"
   },
   "labels_anchors": false,
   "latex_user_defs": false,
   "report_style_numbering": false,
   "user_envs_cfg": false
  },
  "toc": {
   "base_numbering": 1,
   "nav_menu": {},
   "number_sections": true,
   "sideBar": true,
   "skip_h1_title": false,
   "title_cell": "Table of Contents",
   "title_sidebar": "Contents",
   "toc_cell": false,
   "toc_position": {},
   "toc_section_display": true,
   "toc_window_display": false
  },
  "varInspector": {
   "cols": {
    "lenName": 16,
    "lenType": 16,
    "lenVar": 40
   },
   "kernels_config": {
    "python": {
     "delete_cmd_postfix": "",
     "delete_cmd_prefix": "del ",
     "library": "var_list.py",
     "varRefreshCmd": "print(var_dic_list())"
    },
    "r": {
     "delete_cmd_postfix": ") ",
     "delete_cmd_prefix": "rm(",
     "library": "var_list.r",
     "varRefreshCmd": "cat(var_dic_list()) "
    }
   },
   "position": {
    "height": "187px",
    "left": "1026px",
    "right": "20px",
    "top": "120px",
    "width": "350px"
   },
   "types_to_exclude": [
    "module",
    "function",
    "builtin_function_or_method",
    "instance",
    "_Feature"
   ],
   "window_display": false
  }
 },
 "nbformat": 4,
 "nbformat_minor": 2
}
