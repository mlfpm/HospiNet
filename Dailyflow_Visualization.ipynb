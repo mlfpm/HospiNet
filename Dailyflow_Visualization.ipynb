{
 "cells": [
  {
   "cell_type": "code",
   "execution_count": 5,
   "metadata": {},
   "outputs": [],
   "source": [
    "import pandas as pd\n",
    "import numpy as np\n",
    "import pickle\n",
    "import branca.colormap\n",
    "from collections import defaultdict\n",
    "import folium\n",
    "import folium.plugins as plugins"
   ]
  },
  {
   "cell_type": "code",
   "execution_count": 6,
   "metadata": {},
   "outputs": [],
   "source": [
    "df = pd.read_csv('./France_Hospital_data/donnees-hospitalieres-nouveaux-covid19-2020-04-23-19h00.csv', header=0,sep=';')\n",
    "df = df.groupby(['jour',  'dep']).sum()\n",
    "time_index = list(np.unique(df.index.get_level_values(0)))"
   ]
  },
  {
   "cell_type": "code",
   "execution_count": 7,
   "metadata": {
    "scrolled": true
   },
   "outputs": [],
   "source": [
    "with open('./processed_data/departments.pkl', 'rb') as handle:\n",
    "    France_atts = pickle.load(handle)\n",
    "loci = pd.DataFrame.from_dict(France_atts)\n",
    "loci.columns = np.unique(df.index.get_level_values(1))"
   ]
  },
  {
   "cell_type": "code",
   "execution_count": 9,
   "metadata": {},
   "outputs": [],
   "source": [
    "for cat in df.columns:\n",
    "    data_hosp = []\n",
    "    for _, df_temp in df.groupby(level=0):\n",
    "        data_temp = []\n",
    "        for weight, (key, value) in zip(df_temp[cat], loci.loc['capital_coords'].items()):\n",
    "            data_temp.append([value['lat'], value['lng'], weight/(df[cat].max())])\n",
    "        data_hosp.append(data_temp)\n",
    "    \n",
    "    m = folium.Map([48., 5.], tiles='stamentoner', zoom_start=6)\n",
    "\n",
    "    hm = plugins.HeatMapWithTime(\n",
    "        data_hosp,\n",
    "        radius=45,\n",
    "        index=time_index,\n",
    "        auto_play=True,\n",
    "        max_opacity=0.3\n",
    "    )\n",
    "    hm.add_to(m)\n",
    "    \n",
    "    file_path = r\"./visualisations/{}.html\".format(str(cat))\n",
    "    hm.save(file_path)"
   ]
  },
  {
   "cell_type": "code",
   "execution_count": null,
   "metadata": {},
   "outputs": [],
   "source": []
  }
 ],
 "metadata": {
  "kernelspec": {
   "display_name": "Python 3",
   "language": "python",
   "name": "python3"
  },
  "language_info": {
   "codemirror_mode": {
    "name": "ipython",
    "version": 3
   },
   "file_extension": ".py",
   "mimetype": "text/x-python",
   "name": "python",
   "nbconvert_exporter": "python",
   "pygments_lexer": "ipython3",
   "version": "3.7.4"
  }
 },
 "nbformat": 4,
 "nbformat_minor": 2
}
